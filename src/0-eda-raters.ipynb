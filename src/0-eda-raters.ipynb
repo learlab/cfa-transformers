{
 "cells": [
  {
   "cell_type": "markdown",
   "id": "74c4ed6d-89ac-4eae-afc4-15027c6d31f1",
   "metadata": {},
   "source": [
    "# Exploratory Data Analysis\n",
    "\n",
    "In this notebook, we explored the possibility of training models on specific raters. Ultimately, we decided there would not be enough data from a single rater to train an effective model."
   ]
  },
  {
   "cell_type": "code",
   "execution_count": 1,
   "id": "a341a89d-5e4d-4969-a2e5-877dff645dec",
   "metadata": {},
   "outputs": [],
   "source": [
    "# Import Python library for working with dataframes\n",
    "import pandas as pd\n",
    "import numpy as np\n",
    "from sklearn.metrics import cohen_kappa_score\n",
    "\n",
    "# Enables inline display of plots within the Python Notebook (instead of having them pop up on new windows)\n",
    "%matplotlib inline\n",
    "\n",
    "# Display figures the same way they will be saved.\n",
    "%config InlineBackend.print_figure_kwargs = {'bbox_inches': 'tight'}\n",
    "\n",
    "# Import Python libraries for plotting\n",
    "import seaborn as sns\n",
    "sns.set_theme(style=\"white\")\n",
    "import matplotlib.pyplot as plt\n",
    "import matplotlib as mpl\n",
    "plt.rcParams.update({\n",
    "    'figure.dpi': 300,\n",
    "    \"font.family\": \"serif\",\n",
    "})"
   ]
  },
  {
   "cell_type": "markdown",
   "id": "4fe2055c-47ac-41eb-8001-c017f12a3929",
   "metadata": {},
   "source": [
    "## Load Data\n",
    "\n",
    "Anonymize rater names if anonymized version not found"
   ]
  },
  {
   "cell_type": "code",
   "execution_count": 11,
   "id": "7f3dfbe3-4a3b-4884-be32-234618d41a2d",
   "metadata": {},
   "outputs": [],
   "source": [
    "def anonymize(\n",
    "    original_df_path: str = \"../data/All_adjudicated_ELL_data_1022.csv\",\n",
    "    out_df_path: str = \"../data/both_raters_anonymized_1022.csv\",\n",
    "):\n",
    "    from faker import Faker\n",
    "    from functools import cache\n",
    "\n",
    "    fake = Faker()\n",
    "    Faker.seed(0)\n",
    "\n",
    "    @cache\n",
    "    def replace_name(orig_name: str):\n",
    "        return fake.first_name()\n",
    "\n",
    "    orig_df = pd.read_csv(original_df_path)\n",
    "    rater_1 = orig_df.pop(\"Rater_1\")\n",
    "    rater_2 = orig_df.pop(\"Rater_2\")\n",
    "\n",
    "    out_df = orig_df.copy()\n",
    "    out_df[\"Rater_1\"] = rater_1.map(replace_name)\n",
    "    out_df[\"Rater_2\"] = rater_2.map(replace_name)\n",
    "\n",
    "    out_df.to_csv(\"../data/both_raters_anonymized_1022.csv\", index=False)\n",
    "\n",
    "    return out_df\n",
    "\n",
    "try:\n",
    "    df = pd.read_csv(\"../data/both_raters_anonymized_1022.csv\")\n",
    "except FileNotFoundError:\n",
    "    df = anonymize()"
   ]
  },
  {
   "cell_type": "markdown",
   "id": "202306b5-3e6f-4b53-8ef2-189b1bf22fce",
   "metadata": {},
   "source": [
    "### Confirm that Overall_1 is not a simple average of the other scores.\n",
    "This should be a human-generated holistic score."
   ]
  },
  {
   "cell_type": "code",
   "execution_count": 12,
   "id": "e6bcd442-ab2a-42ff-9b16-660b60bd792f",
   "metadata": {},
   "outputs": [
    {
     "data": {
      "text/html": [
       "<div>\n",
       "<style scoped>\n",
       "    .dataframe tbody tr th:only-of-type {\n",
       "        vertical-align: middle;\n",
       "    }\n",
       "\n",
       "    .dataframe tbody tr th {\n",
       "        vertical-align: top;\n",
       "    }\n",
       "\n",
       "    .dataframe thead th {\n",
       "        text-align: right;\n",
       "    }\n",
       "</style>\n",
       "<table border=\"1\" class=\"dataframe\">\n",
       "  <thead>\n",
       "    <tr style=\"text-align: right;\">\n",
       "      <th></th>\n",
       "      <th>Overall_1</th>\n",
       "      <th>Average_1</th>\n",
       "    </tr>\n",
       "  </thead>\n",
       "  <tbody>\n",
       "    <tr>\n",
       "      <th>0</th>\n",
       "      <td>3</td>\n",
       "      <td>4</td>\n",
       "    </tr>\n",
       "    <tr>\n",
       "      <th>6</th>\n",
       "      <td>3</td>\n",
       "      <td>4</td>\n",
       "    </tr>\n",
       "    <tr>\n",
       "      <th>13</th>\n",
       "      <td>3</td>\n",
       "      <td>2</td>\n",
       "    </tr>\n",
       "    <tr>\n",
       "      <th>35</th>\n",
       "      <td>3</td>\n",
       "      <td>2</td>\n",
       "    </tr>\n",
       "    <tr>\n",
       "      <th>38</th>\n",
       "      <td>2</td>\n",
       "      <td>3</td>\n",
       "    </tr>\n",
       "    <tr>\n",
       "      <th>...</th>\n",
       "      <td>...</td>\n",
       "      <td>...</td>\n",
       "    </tr>\n",
       "    <tr>\n",
       "      <th>8851</th>\n",
       "      <td>3</td>\n",
       "      <td>4</td>\n",
       "    </tr>\n",
       "    <tr>\n",
       "      <th>8859</th>\n",
       "      <td>3</td>\n",
       "      <td>2</td>\n",
       "    </tr>\n",
       "    <tr>\n",
       "      <th>8860</th>\n",
       "      <td>3</td>\n",
       "      <td>4</td>\n",
       "    </tr>\n",
       "    <tr>\n",
       "      <th>8865</th>\n",
       "      <td>2</td>\n",
       "      <td>3</td>\n",
       "    </tr>\n",
       "    <tr>\n",
       "      <th>8867</th>\n",
       "      <td>3</td>\n",
       "      <td>2</td>\n",
       "    </tr>\n",
       "  </tbody>\n",
       "</table>\n",
       "<p>1321 rows × 2 columns</p>\n",
       "</div>"
      ],
      "text/plain": [
       "      Overall_1  Average_1\n",
       "0             3          4\n",
       "6             3          4\n",
       "13            3          2\n",
       "35            3          2\n",
       "38            2          3\n",
       "...         ...        ...\n",
       "8851          3          4\n",
       "8859          3          2\n",
       "8860          3          4\n",
       "8865          2          3\n",
       "8867          3          2\n",
       "\n",
       "[1321 rows x 2 columns]"
      ]
     },
     "execution_count": 12,
     "metadata": {},
     "output_type": "execute_result"
    }
   ],
   "source": [
    "(\n",
    "    pd.DataFrame()\n",
    "    .assign(\n",
    "        Overall_1 = df['Overall_1'],\n",
    "        Average_1 = (\n",
    "            df[['Cohesion_1', 'Syntax_1', 'Vocabulary_1', 'Phraseology_1', 'Grammar_1', 'Conventions_1']]\n",
    "            .mean(axis=1)\n",
    "            .round(0)\n",
    "            .astype(int)\n",
    "        )\n",
    "    )\n",
    "    .query('Overall_1 != Average_1')\n",
    ")"
   ]
  },
  {
   "cell_type": "code",
   "execution_count": 13,
   "id": "5e569a25-5fb3-42d9-92f8-8630af4bd4d4",
   "metadata": {},
   "outputs": [
    {
     "data": {
      "text/plain": [
       "count       17760\n",
       "unique         25\n",
       "top       William\n",
       "freq         2095\n",
       "dtype: object"
      ]
     },
     "execution_count": 13,
     "metadata": {},
     "output_type": "execute_result"
    }
   ],
   "source": [
    "pd.concat([df[\"Rater_1\"], df[\"Rater_2\"]]).describe()"
   ]
  },
  {
   "cell_type": "code",
   "execution_count": 14,
   "id": "229f3ea6-d6a6-4def-bd57-740fc9e28f0a",
   "metadata": {},
   "outputs": [
    {
     "data": {
      "text/plain": [
       "count      25.000000\n",
       "mean      710.400000\n",
       "std       571.500583\n",
       "min         2.000000\n",
       "25%       225.000000\n",
       "50%       605.000000\n",
       "75%      1062.000000\n",
       "max      2095.000000\n",
       "Name: count, dtype: float64"
      ]
     },
     "execution_count": 14,
     "metadata": {},
     "output_type": "execute_result"
    }
   ],
   "source": [
    "pd.concat([df[\"Rater_1\"], df[\"Rater_2\"]]).value_counts().describe()"
   ]
  },
  {
   "cell_type": "code",
   "execution_count": null,
   "id": "e8b352f1-f10b-4f72-b4c6-6590d8321012",
   "metadata": {},
   "outputs": [],
   "source": [
    "display(pd.Series(df[[\"Rater_1\", \"Rater_2\"]].values.tolist()).apply(set).value_counts())"
   ]
  },
  {
   "cell_type": "code",
   "execution_count": null,
   "id": "4398c115-4671-4e8c-a106-51761d3114c3",
   "metadata": {},
   "outputs": [],
   "source": [
    "# with pd.option_context(\"display.max_rows\", None):\n",
    "    display(df.groupby([\"Rater_1\"])[\"Rater_2\"].value_counts())"
   ]
  }
 ],
 "metadata": {
  "kernelspec": {
   "display_name": "Python [conda env:hf]",
   "language": "python",
   "name": "conda-env-hf-py"
  },
  "language_info": {
   "codemirror_mode": {
    "name": "ipython",
    "version": 3
   },
   "file_extension": ".py",
   "mimetype": "text/x-python",
   "name": "python",
   "nbconvert_exporter": "python",
   "pygments_lexer": "ipython3",
   "version": "3.11.6"
  }
 },
 "nbformat": 4,
 "nbformat_minor": 5
}
