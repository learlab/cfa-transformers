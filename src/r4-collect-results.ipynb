{
 "cells": [
  {
   "cell_type": "markdown",
   "id": "1493d6bd-0e19-420a-b63a-83df30f82cc9",
   "metadata": {},
   "source": [
    "# Collect Results"
   ]
  },
  {
   "cell_type": "code",
   "execution_count": 1,
   "id": "730a553a-0c6f-4ee3-a63d-b71cdcf4c121",
   "metadata": {
    "tags": []
   },
   "outputs": [],
   "source": [
    "import pandas as pd\n",
    "from pathlib import Path"
   ]
  },
  {
   "cell_type": "code",
   "execution_count": 2,
   "id": "c882c04a-b2e5-400d-8812-e80191e9ca89",
   "metadata": {},
   "outputs": [],
   "source": [
    "def construct_results_dataframe(results_dir: Path):\n",
    "    results_dfs = []\n",
    "\n",
    "    for path in results_dir.glob('*.csv'):\n",
    "        results_dfs.append(pd.read_csv(path, index_col=0))\n",
    "    \n",
    "    results_df = pd.concat(results_dfs, axis=1)\n",
    "\n",
    "    # Get original data\n",
    "    orig_df = pd.read_csv('../data/All_adjudicated_ELL_data_1022.csv')\n",
    "\n",
    "    # Join data\n",
    "    out_df = orig_df.set_index('ID').join(results_df, how='right')\n",
    "\n",
    "    return out_df.reset_index(names='id')"
   ]
  },
  {
   "cell_type": "code",
   "execution_count": null,
   "id": "0c4dce74-307a-476a-96d9-4b73b91103af",
   "metadata": {},
   "outputs": [],
   "source": [
    "trunc = (\n",
    "    construct_results_dataframe(\n",
    "        Path('../results/deberta-v3-large-no-trunc/')\n",
    "    )\n",
    "    .loc[:,[\"deberta_overall_1\", \"deberta_overall_2\"]]\n",
    "    .rename(\n",
    "        columns = {\n",
    "            \"deberta_overall_1\": \"overall_trunc_1\",\n",
    "            \"deberta_overall_2\": \"overall_trunc_2\"\n",
    "        }\n",
    "    )\n",
    ")\n",
    "df = construct_results_dataframe(Path('../results/deberta-v3-large/'))\n",
    "df = pd.concat((df, trunc), axis=1)\n",
    "df"
   ]
  },
  {
   "cell_type": "code",
   "execution_count": 8,
   "id": "864f91fc-d885-4319-9b65-545c27e276b8",
   "metadata": {},
   "outputs": [
    {
     "data": {
      "text/plain": [
       "Index(['id', 'Filename', 'Text', 'Rater_1', 'Overall_1', 'Cohesion_1',\n",
       "       'Syntax_1', 'Vocabulary_1', 'Phraseology_1', 'Grammar_1',\n",
       "       'Conventions_1', 'Identifying_Info_1', 'Rater_2', 'Overall_2',\n",
       "       'Cohesion_2', 'Syntax_2', 'Vocabulary_2', 'Phraseology_2', 'Grammar_2',\n",
       "       'Conventions_2', 'Identifying_Info_2', 'deberta_grammar_2',\n",
       "       'deberta_overall_2', 'deberta_cohesion_1', 'deberta_conventions_1',\n",
       "       'deberta_conventions_2', 'deberta_syntax_2', 'deberta_phraseology_2',\n",
       "       'deberta_syntax_1', 'deberta_cohesion_2', 'deberta_vocabulary_1',\n",
       "       'deberta_vocabulary_2', 'deberta_grammar_1', 'deberta_overall_1',\n",
       "       'deberta_phraseology_1'],\n",
       "      dtype='object')"
      ]
     },
     "execution_count": 8,
     "metadata": {},
     "output_type": "execute_result"
    }
   ],
   "source": [
    "df.columns"
   ]
  },
  {
   "cell_type": "markdown",
   "id": "5accda38-1962-44bc-a129-c3ec3fabba40",
   "metadata": {},
   "source": [
    "## Save to CSV\n",
    "\n",
    "We will build the models in R"
   ]
  },
  {
   "cell_type": "code",
   "execution_count": 4,
   "id": "9c3388e5-b264-476c-82f4-72e215a19812",
   "metadata": {},
   "outputs": [],
   "source": [
    "df.to_csv('../results/deberta-cfa.csv', index=False)"
   ]
  }
 ],
 "metadata": {
  "kernelspec": {
   "display_name": "Python [conda env:hf]",
   "language": "python",
   "name": "conda-env-hf-py"
  },
  "language_info": {
   "codemirror_mode": {
    "name": "ipython",
    "version": 3
   },
   "file_extension": ".py",
   "mimetype": "text/x-python",
   "name": "python",
   "nbconvert_exporter": "python",
   "pygments_lexer": "ipython3",
   "version": "3.11.6"
  }
 },
 "nbformat": 4,
 "nbformat_minor": 5
}
