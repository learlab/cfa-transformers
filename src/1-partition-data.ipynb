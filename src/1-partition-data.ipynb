{
 "cells": [
  {
   "cell_type": "code",
   "execution_count": 1,
   "id": "1571fb99-e261-4f2f-95d5-3d95068b2ffe",
   "metadata": {},
   "outputs": [],
   "source": [
    "import pandas as pd\n",
    "from datasets import Dataset, DatasetDict\n",
    "import re\n",
    "\n",
    "SEED = 42"
   ]
  },
  {
   "cell_type": "code",
   "execution_count": 2,
   "id": "6489f7ca-8da2-4918-a3cb-4fa280e97292",
   "metadata": {
    "tags": []
   },
   "outputs": [
    {
     "data": {
      "text/html": [
       "<div>\n",
       "<style scoped>\n",
       "    .dataframe tbody tr th:only-of-type {\n",
       "        vertical-align: middle;\n",
       "    }\n",
       "\n",
       "    .dataframe tbody tr th {\n",
       "        vertical-align: top;\n",
       "    }\n",
       "\n",
       "    .dataframe thead th {\n",
       "        text-align: right;\n",
       "    }\n",
       "</style>\n",
       "<table border=\"1\" class=\"dataframe\">\n",
       "  <thead>\n",
       "    <tr style=\"text-align: right;\">\n",
       "      <th></th>\n",
       "      <th>text_id</th>\n",
       "      <th>full_text</th>\n",
       "      <th>gender</th>\n",
       "      <th>grade</th>\n",
       "      <th>race_ethnicity</th>\n",
       "      <th>num_words</th>\n",
       "      <th>num_words2</th>\n",
       "      <th>num_words3</th>\n",
       "      <th>num_sent</th>\n",
       "      <th>num_para</th>\n",
       "      <th>...</th>\n",
       "      <th>task</th>\n",
       "      <th>SES</th>\n",
       "      <th>prompt</th>\n",
       "      <th>Overall</th>\n",
       "      <th>Cohesion</th>\n",
       "      <th>Syntax</th>\n",
       "      <th>Vocabulary</th>\n",
       "      <th>Phraseology</th>\n",
       "      <th>Grammar</th>\n",
       "      <th>Conventions</th>\n",
       "    </tr>\n",
       "  </thead>\n",
       "  <tbody>\n",
       "    <tr>\n",
       "      <th>0</th>\n",
       "      <td>2021000501</td>\n",
       "      <td>Dear, TEACHER_NAME\\n\\nI think phone policy at ...</td>\n",
       "      <td>Male</td>\n",
       "      <td>8</td>\n",
       "      <td>Hispanic/Latino</td>\n",
       "      <td>111</td>\n",
       "      <td>122</td>\n",
       "      <td>118</td>\n",
       "      <td>7</td>\n",
       "      <td>2</td>\n",
       "      <td>...</td>\n",
       "      <td>Independent</td>\n",
       "      <td>Economically disadvantaged</td>\n",
       "      <td>Cell phones at school</td>\n",
       "      <td>3.0</td>\n",
       "      <td>3.5</td>\n",
       "      <td>2.5</td>\n",
       "      <td>3.5</td>\n",
       "      <td>3.0</td>\n",
       "      <td>3.5</td>\n",
       "      <td>2.5</td>\n",
       "    </tr>\n",
       "    <tr>\n",
       "      <th>1</th>\n",
       "      <td>2021000535</td>\n",
       "      <td>Dear, Principal\\r\\n\\r\\nIn my opinion, I think ...</td>\n",
       "      <td>Female</td>\n",
       "      <td>8</td>\n",
       "      <td>Hispanic/Latino</td>\n",
       "      <td>99</td>\n",
       "      <td>105</td>\n",
       "      <td>102</td>\n",
       "      <td>6</td>\n",
       "      <td>2</td>\n",
       "      <td>...</td>\n",
       "      <td>Independent</td>\n",
       "      <td>Economically disadvantaged</td>\n",
       "      <td>Cell phones at school</td>\n",
       "      <td>3.0</td>\n",
       "      <td>2.5</td>\n",
       "      <td>3.0</td>\n",
       "      <td>4.0</td>\n",
       "      <td>3.5</td>\n",
       "      <td>3.0</td>\n",
       "      <td>3.5</td>\n",
       "    </tr>\n",
       "  </tbody>\n",
       "</table>\n",
       "<p>2 rows × 25 columns</p>\n",
       "</div>"
      ],
      "text/plain": [
       "      text_id                                          full_text  gender  \\\n",
       "0  2021000501  Dear, TEACHER_NAME\\n\\nI think phone policy at ...    Male   \n",
       "1  2021000535  Dear, Principal\\r\\n\\r\\nIn my opinion, I think ...  Female   \n",
       "\n",
       "   grade   race_ethnicity  num_words  num_words2  num_words3  num_sent  \\\n",
       "0      8  Hispanic/Latino        111         122         118         7   \n",
       "1      8  Hispanic/Latino         99         105         102         6   \n",
       "\n",
       "   num_para  ...         task                         SES  \\\n",
       "0         2  ...  Independent  Economically disadvantaged   \n",
       "1         2  ...  Independent  Economically disadvantaged   \n",
       "\n",
       "                  prompt  Overall  Cohesion Syntax Vocabulary Phraseology  \\\n",
       "0  Cell phones at school      3.0       3.5    2.5        3.5         3.0   \n",
       "1  Cell phones at school      3.0       2.5    3.0        4.0         3.5   \n",
       "\n",
       "   Grammar  Conventions  \n",
       "0      3.5          2.5  \n",
       "1      3.0          3.5  \n",
       "\n",
       "[2 rows x 25 columns]"
      ]
     },
     "execution_count": 2,
     "metadata": {},
     "output_type": "execute_result"
    }
   ],
   "source": [
    "df = pd.read_csv('../data/ELLIPSE_Full_manual_clean_finished_calculated.csv')\n",
    "\n",
    "df.head(2)"
   ]
  },
  {
   "cell_type": "markdown",
   "id": "03b5e016-a354-4e58-8444-962fecb4af80",
   "metadata": {
    "tags": []
   },
   "source": [
    "## Clean text\n",
    "\n",
    "Collapse all contiguous spans of whitespace into a single space. Also removes leading and trailing whitespace.\n",
    "\n",
    "Specific preprocessing steps are a matter of preference. Most transformers (especially newer, larger ones) were pretrained on diverse and messy text scraped from the internet."
   ]
  },
  {
   "cell_type": "code",
   "execution_count": 19,
   "id": "fd0452a2-32fb-422a-8a53-be220e83e7fc",
   "metadata": {
    "tags": []
   },
   "outputs": [
    {
     "data": {
      "text/plain": [
       "215     For me the best Policy is the first one becaus...\n",
       "1273    How can a students learn more from home than a...\n",
       "2842    1. Many kinds can't understand because the dif...\n",
       "1098    Imagine taking four-day school week and having...\n",
       "6464    I disagree about what the principal has decide...\n",
       "Name: clean_text, dtype: object"
      ]
     },
     "execution_count": 19,
     "metadata": {},
     "output_type": "execute_result"
    }
   ],
   "source": [
    "df['clean_text'] = df.full_text.apply(lambda text: re.sub(r'\\s+', r' ', text.strip()))\n",
    "df.clean_text.sample(5)"
   ]
  },
  {
   "cell_type": "markdown",
   "id": "7f092e4e-acb2-4bd7-8110-f4504975e731",
   "metadata": {
    "tags": []
   },
   "source": [
    "## We have some long texts\n",
    "\n",
    "Most transformers have a maximum sequence length of 512 tokens. Transformer tokenizers do not operate at the word level. Many words will be split into \"sub-word tokens\". This means a typical transformer can handle roughly ~400 words.\n",
    "\n",
    "For this showcase, we will simply truncate texts that are too long, but there are models that can handle longer sequence lengths (e.g., Longformer). There are also approaches for handling longer sequences with standard pretrained models, such as using a \"sliding window\" approach. We truncate in the interest of simplicity."
   ]
  },
  {
   "cell_type": "code",
   "execution_count": 25,
   "id": "7906863a-e220-437b-84b1-cdc43aae2af1",
   "metadata": {
    "tags": []
   },
   "outputs": [
    {
     "data": {
      "text/plain": [
       "<Axes: >"
      ]
     },
     "execution_count": 25,
     "metadata": {},
     "output_type": "execute_result"
    },
    {
     "data": {
      "image/png": "[encoded data removed]",
      "text/plain": [
       "<Figure size 640x480 with 1 Axes>"
      ]
     },
     "metadata": {},
     "output_type": "display_data"
    }
   ],
   "source": [
    "df.num_words.hist()"
   ]
  },
  {
   "cell_type": "markdown",
   "id": "9ce10b90-01a5-43ee-8a37-8ec08e7422d0",
   "metadata": {
    "tags": []
   },
   "source": [
    "### Truncation\n",
    "\n",
    "To see how many texts will be truncated and what will be lost, we need to use the transformer's tokenization scheme.\n",
    "\n",
    "We will be developing models from `bert-base-uncased`, so we need to import its `sentencepiece` tokenizer. This will produce a warning, since we set `truncation=False` (which is the default value)."
   ]
  },
  {
   "cell_type": "code",
   "execution_count": 23,
   "id": "e53c8f20-6742-4026-8adf-b5de03e9f8d3",
   "metadata": {
    "tags": []
   },
   "outputs": [
    {
     "name": "stderr",
     "output_type": "stream",
     "text": [
      "Token indices sequence length is longer than the specified maximum sequence length for this model (541 > 512). Running this sequence through the model will result in indexing errors\n"
     ]
    }
   ],
   "source": [
    "from transformers import AutoTokenizer\n",
    "\n",
    "tokenizer = AutoTokenizer.from_pretrained('bert-base-uncased')\n",
    "\n",
    "def tokenize(text):\n",
    "    input_ids = tokenizer(text, truncation=False)['input_ids']\n",
    "    return input_ids\n",
    "\n",
    "input_ids = df.clean_text.apply(tokenize)"
   ]
  },
  {
   "cell_type": "markdown",
   "id": "3e34b20d-601d-4e39-8873-04113c89ffa4",
   "metadata": {},
   "source": [
    "The following functions count the number of tokens in each sample.\n",
    "\n",
    "Around 40% of our samples will be truncated. When we evaluate our model, we will report how this affects performance."
   ]
  },
  {
   "cell_type": "code",
   "execution_count": 24,
   "id": "2de944e0-bcf9-4c4f-b803-8bc7bcfb6ccf",
   "metadata": {
    "tags": []
   },
   "outputs": [
    {
     "data": {
      "text/plain": [
       "<Axes: >"
      ]
     },
     "metadata": {},
     "output_type": "display_data"
    },
    {
     "data": {
      "text/plain": [
       "count    6482.000000\n",
       "mean      489.050139\n",
       "std       216.793364\n",
       "min        16.000000\n",
       "50%       457.000000\n",
       "55%       480.000000\n",
       "60%       506.000000\n",
       "65%       531.000000\n",
       "70%       564.000000\n",
       "75%       599.000000\n",
       "80%       637.000000\n",
       "max      1527.000000\n",
       "Name: clean_text, dtype: float64"
      ]
     },
     "execution_count": 24,
     "metadata": {},
     "output_type": "execute_result"
    },
    {
     "data": {
      "image/png": "[encoded data removed]",
      "text/plain": [
       "<Figure size 640x480 with 1 Axes>"
      ]
     },
     "metadata": {},
     "output_type": "display_data"
    }
   ],
   "source": [
    "import numpy as np\n",
    "input_ids.str.len().describe(percentiles=np.arange(.5, .8, step=.05))\n",
    "\n",
    "display(input_ids.str.len().hist())"
   ]
  },
  {
   "cell_type": "markdown",
   "id": "ffc5dce5-7159-40d2-bde7-f2e11584a924",
   "metadata": {},
   "source": [
    "## Build Dataset\n",
    "\n",
    "Create a DatasetDict that will hold the dataset partitions. Saving this to disk promotes reproducibility by guaranteeing that different scripts are accessing the same data splits. I find that it also helps to organize our research code.\n",
    "\n",
    "It is possible to tokenize at this stage, but I prefer to tokenize at the last minute. This affords us the flexibility of changing tokenization schemes, which could be useful if we want to test different pretrained models (that may use different tokenizers)."
   ]
  },
  {
   "cell_type": "code",
   "execution_count": 16,
   "id": "9d5133ad-717b-45b6-ba81-aeba6dfbd8b3",
   "metadata": {
    "tags": []
   },
   "outputs": [],
   "source": [
    "def build_dataset(df):\n",
    "    \n",
    "    columns = ['text_id',\n",
    "               'clean_text',\n",
    "               'Overall',\n",
    "               'Cohesion',\n",
    "               'Syntax',\n",
    "               'Vocabulary',\n",
    "               'Phraseology',\n",
    "               'Grammar',\n",
    "               'Conventions']\n",
    "    \n",
    "    df = df[columns].rename(columns = {'clean_text': 'text'})\n",
    "    \n",
    "    ds = Dataset.from_pandas(df, preserve_index=False)\n",
    "    \n",
    "    # 70% train, 15% development, 15% test\n",
    "    train_remains = ds.train_test_split(test_size=0.3, seed=SEED)\n",
    "    train = train_remains['train']\n",
    "    _remains = train_remains['test']\n",
    "    \n",
    "    dev_test = _remains.train_test_split(test_size=0.5, seed=SEED)\n",
    "    dev = dev_test['train']\n",
    "    test = dev_test['test']\n",
    "    \n",
    "    dd = DatasetDict({\n",
    "        'train': train,\n",
    "        'dev': dev, \n",
    "        'test': test})\n",
    "\n",
    "    return dd"
   ]
  },
  {
   "cell_type": "code",
   "execution_count": 17,
   "id": "58872beb-e578-4ca9-b4ff-90970aafd855",
   "metadata": {
    "tags": []
   },
   "outputs": [],
   "source": [
    "dd = build_dataset(df)"
   ]
  },
  {
   "cell_type": "code",
   "execution_count": 15,
   "id": "02d9f95f-9e75-4da8-8855-e3736f8ba5cf",
   "metadata": {
    "tags": []
   },
   "outputs": [
    {
     "data": {
      "application/vnd.jupyter.widget-view+json": {
       "model_id": "",
       "version_major": 2,
       "version_minor": 0
      },
      "text/plain": [
       "Saving the dataset (0/1 shards):   0%|          | 0/4537 [00:00<?, ? examples/s]"
      ]
     },
     "metadata": {},
     "output_type": "display_data"
    },
    {
     "data": {
      "application/vnd.jupyter.widget-view+json": {
       "model_id": "",
       "version_major": 2,
       "version_minor": 0
      },
      "text/plain": [
       "Saving the dataset (0/1 shards):   0%|          | 0/972 [00:00<?, ? examples/s]"
      ]
     },
     "metadata": {},
     "output_type": "display_data"
    },
    {
     "data": {
      "application/vnd.jupyter.widget-view+json": {
       "model_id": "",
       "version_major": 2,
       "version_minor": 0
      },
      "text/plain": [
       "Saving the dataset (0/1 shards):   0%|          | 0/973 [00:00<?, ? examples/s]"
      ]
     },
     "metadata": {},
     "output_type": "display_data"
    }
   ],
   "source": [
    "dd.save_to_disk('../data/ellipse.hf')"
   ]
  }
 ],
 "metadata": {
  "kernelspec": {
   "display_name": "Python [conda env:ellipse]",
   "language": "python",
   "name": "conda-env-ellipse-py"
  },
  "language_info": {
   "codemirror_mode": {
    "name": "ipython",
    "version": 3
   },
   "file_extension": ".py",
   "mimetype": "text/x-python",
   "name": "python",
   "nbconvert_exporter": "python",
   "pygments_lexer": "ipython3",
   "version": "3.10.9"
  }
 },
 "nbformat": 4,
 "nbformat_minor": 5
}
