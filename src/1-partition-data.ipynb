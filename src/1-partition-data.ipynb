{
 "cells": [
  {
   "cell_type": "code",
   "execution_count": 1,
   "id": "1571fb99-e261-4f2f-95d5-3d95068b2ffe",
   "metadata": {},
   "outputs": [],
   "source": [
    "# Import Python library for working with dataframes\n",
    "import pandas as pd\n",
    "\n",
    "# Import Dataset and DatasetDict classes from the datasets library that helps us prepare our own dataset for use in training and evaulating machine learning models\n",
    "from datasets import Dataset, DatasetDict\n",
    "\n",
    "# Import Python library that helps us extract certain target patterns from strings with regular expressions\n",
    "import re\n",
    "\n",
    "# Setting a seed helps us replicate results across multiple runs\n",
    "SEED = 42"
   ]
  },
  {
   "cell_type": "code",
   "execution_count": 3,
   "id": "6489f7ca-8da2-4918-a3cb-4fa280e97292",
   "metadata": {
    "tags": []
   },
   "outputs": [
    {
     "data": {
      "text/html": [
       "<div>\n",
       "<style scoped>\n",
       "    .dataframe tbody tr th:only-of-type {\n",
       "        vertical-align: middle;\n",
       "    }\n",
       "\n",
       "    .dataframe tbody tr th {\n",
       "        vertical-align: top;\n",
       "    }\n",
       "\n",
       "    .dataframe thead th {\n",
       "        text-align: right;\n",
       "    }\n",
       "</style>\n",
       "<table border=\"1\" class=\"dataframe\">\n",
       "  <thead>\n",
       "    <tr style=\"text-align: right;\">\n",
       "      <th></th>\n",
       "      <th>text_id_kaggle</th>\n",
       "      <th>full_text</th>\n",
       "      <th>gender</th>\n",
       "      <th>grade</th>\n",
       "      <th>race_ethnicity</th>\n",
       "      <th>num_words</th>\n",
       "      <th>num_words2</th>\n",
       "      <th>num_words3</th>\n",
       "      <th>num_sent</th>\n",
       "      <th>num_para</th>\n",
       "      <th>...</th>\n",
       "      <th>task</th>\n",
       "      <th>SES</th>\n",
       "      <th>prompt</th>\n",
       "      <th>Overall</th>\n",
       "      <th>Cohesion</th>\n",
       "      <th>Syntax</th>\n",
       "      <th>Vocabulary</th>\n",
       "      <th>Phraseology</th>\n",
       "      <th>Grammar</th>\n",
       "      <th>Conventions</th>\n",
       "    </tr>\n",
       "  </thead>\n",
       "  <tbody>\n",
       "    <tr>\n",
       "      <th>0</th>\n",
       "      <td>5AA45740A848</td>\n",
       "      <td>Dear, TEACHER_NAME\\n\\nI think phone policy at ...</td>\n",
       "      <td>Male</td>\n",
       "      <td>8</td>\n",
       "      <td>Hispanic/Latino</td>\n",
       "      <td>111</td>\n",
       "      <td>122</td>\n",
       "      <td>118</td>\n",
       "      <td>7</td>\n",
       "      <td>2</td>\n",
       "      <td>...</td>\n",
       "      <td>Independent</td>\n",
       "      <td>Economically disadvantaged</td>\n",
       "      <td>Cell phones at school</td>\n",
       "      <td>3.0</td>\n",
       "      <td>3.5</td>\n",
       "      <td>2.5</td>\n",
       "      <td>3.5</td>\n",
       "      <td>3.0</td>\n",
       "      <td>3.5</td>\n",
       "      <td>2.5</td>\n",
       "    </tr>\n",
       "    <tr>\n",
       "      <th>1</th>\n",
       "      <td>790891A35047</td>\n",
       "      <td>Dear, Principal\\r\\n\\r\\nIn my opinion, I think ...</td>\n",
       "      <td>Female</td>\n",
       "      <td>8</td>\n",
       "      <td>Hispanic/Latino</td>\n",
       "      <td>99</td>\n",
       "      <td>105</td>\n",
       "      <td>102</td>\n",
       "      <td>6</td>\n",
       "      <td>2</td>\n",
       "      <td>...</td>\n",
       "      <td>Independent</td>\n",
       "      <td>Economically disadvantaged</td>\n",
       "      <td>Cell phones at school</td>\n",
       "      <td>3.0</td>\n",
       "      <td>2.5</td>\n",
       "      <td>3.0</td>\n",
       "      <td>4.0</td>\n",
       "      <td>3.5</td>\n",
       "      <td>3.0</td>\n",
       "      <td>3.5</td>\n",
       "    </tr>\n",
       "  </tbody>\n",
       "</table>\n",
       "<p>2 rows × 25 columns</p>\n",
       "</div>"
      ],
      "text/plain": [
       "  text_id_kaggle                                          full_text  gender  \\\n",
       "0   5AA45740A848  Dear, TEACHER_NAME\\n\\nI think phone policy at ...    Male   \n",
       "1   790891A35047  Dear, Principal\\r\\n\\r\\nIn my opinion, I think ...  Female   \n",
       "\n",
       "   grade   race_ethnicity  num_words  num_words2  num_words3  num_sent  \\\n",
       "0      8  Hispanic/Latino        111         122         118         7   \n",
       "1      8  Hispanic/Latino         99         105         102         6   \n",
       "\n",
       "   num_para  ...         task                         SES  \\\n",
       "0         2  ...  Independent  Economically disadvantaged   \n",
       "1         2  ...  Independent  Economically disadvantaged   \n",
       "\n",
       "                  prompt  Overall  Cohesion Syntax Vocabulary Phraseology  \\\n",
       "0  Cell phones at school      3.0       3.5    2.5        3.5         3.0   \n",
       "1  Cell phones at school      3.0       2.5    3.0        4.0         3.5   \n",
       "\n",
       "   Grammar  Conventions  \n",
       "0      3.5          2.5  \n",
       "1      3.0          3.5  \n",
       "\n",
       "[2 rows x 25 columns]"
      ]
     },
     "execution_count": 3,
     "metadata": {},
     "output_type": "execute_result"
    }
   ],
   "source": [
    "# Load the csv file\n",
    "df = pd.read_csv('../data/ELLIPSE_Final_github.csv')\n",
    "\n",
    "# Allows us to take a quick look at the first two rows of the loaded dataframe\n",
    "df.head(2)"
   ]
  },
  {
   "cell_type": "markdown",
   "id": "03b5e016-a354-4e58-8444-962fecb4af80",
   "metadata": {
    "tags": []
   },
   "source": [
    "## Clean text\n",
    "\n",
    "Collapse all contiguous spans of whitespace into a single space. Also removes leading and trailing whitespace.\n",
    "\n",
    "Specific preprocessing steps are a matter of preference. Most transformers (especially newer, larger ones) were pretrained on diverse and messy text scraped from the internet."
   ]
  },
  {
   "cell_type": "code",
   "execution_count": 11,
   "id": "fd0452a2-32fb-422a-8a53-be220e83e7fc",
   "metadata": {
    "tags": []
   },
   "outputs": [
    {
     "data": {
      "text/plain": [
       "879     \"Success consists of going from failure to fai...\n",
       "4592    Should students graduate from High School earl...\n",
       "2272    Behavior the best way to influence other peopl...\n",
       "5080    Do you think students would benefit from being...\n",
       "5814    I think that the curfew is good idea for adopt...\n",
       "Name: clean_text, dtype: object"
      ]
     },
     "execution_count": 11,
     "metadata": {},
     "output_type": "execute_result"
    }
   ],
   "source": [
    "# Remove all leading and trailing whitespace using strip()\n",
    "# Find all contiguous spans of whitespace using regex patterns (denoted by \\s+), and replace them with a single space\n",
    "df['clean_text'] = df.full_text.apply(lambda text: re.sub(r'\\s+', r' ', text.strip()))\n",
    "\n",
    "# Print 5 example texts after cleaning\n",
    "df.clean_text.sample(5)"
   ]
  },
  {
   "cell_type": "markdown",
   "id": "7f092e4e-acb2-4bd7-8110-f4504975e731",
   "metadata": {
    "tags": []
   },
   "source": [
    "## We have some long texts\n",
    "\n",
    "Most transformers have a maximum sequence length of 512 tokens. Transformer tokenizers do not operate at the word level. Many words will be split into \"sub-word tokens\" (for example, the word \"transformer\" will be split into \"transform\" and \"##er\" and will be treated as two separate tokens). This means a typical transformer can handle roughly ~400 words.\n",
    "\n",
    "For this showcase, we will simply truncate texts that are too long, but there are models that can handle longer sequence lengths (e.g., Longformer). There are also approaches for handling longer sequences with standard pretrained models, such as using a \"sliding window\" approach. We truncate in the interest of simplicity."
   ]
  },
  {
   "cell_type": "code",
   "execution_count": 15,
   "id": "7906863a-e220-437b-84b1-cdc43aae2af1",
   "metadata": {
    "tags": []
   },
   "outputs": [
    {
     "data": {
      "image/png": "[encoded data removed]",
      "text/plain": [
       "<Figure size 432x288 with 1 Axes>"
      ]
     },
     "metadata": {
      "needs_background": "light"
     },
     "output_type": "display_data"
    }
   ],
   "source": [
    "# Create histogram showing the number of words in the ELLIPSE texts\n",
    "df.num_words.hist();"
   ]
  },
  {
   "cell_type": "markdown",
   "id": "9ce10b90-01a5-43ee-8a37-8ec08e7422d0",
   "metadata": {
    "tags": []
   },
   "source": [
    "### Truncation\n",
    "\n",
    "To see how many texts will be truncated and what will be lost, we need to use the transformer's tokenization scheme.\n",
    "\n",
    "We will be developing models from `bert-base-uncased`, so we need to import its `sentencepiece` tokenizer. This will produce a warning, since we set `truncation=False` (which is the default value)."
   ]
  },
  {
   "cell_type": "code",
   "execution_count": 27,
   "id": "e53c8f20-6742-4026-8adf-b5de03e9f8d3",
   "metadata": {
    "tags": []
   },
   "outputs": [
    {
     "name": "stderr",
     "output_type": "stream",
     "text": [
      "Token indices sequence length is longer than the specified maximum sequence length for this model (541 > 512). Running this sequence through the model will result in indexing errors\n"
     ]
    }
   ],
   "source": [
    "# Import tokenizer from the transformer library which will help us transform texts into separate tokens with embeddings.\n",
    "from transformers import AutoTokenizer\n",
    "\n",
    "# Initialize tokenizer using a pre-trained transformer model\n",
    "tokenizer = AutoTokenizer.from_pretrained('bert-base-uncased')\n",
    "\n",
    "# Create function that will take a text as an input, tokenize it, and returns specific ids for each individual token.\n",
    "def tokenize(text):\n",
    "    input_ids = tokenizer(text, truncation=False)['input_ids']\n",
    "    return input_ids\n",
    "\n",
    "# Apply the function to the clean text (= text with collapsed whitespaces)\n",
    "input_ids = df.clean_text.apply(tokenize)"
   ]
  },
  {
   "cell_type": "markdown",
   "id": "3e34b20d-601d-4e39-8873-04113c89ffa4",
   "metadata": {},
   "source": [
    "The following functions count the number of tokens in each sample.\n",
    "\n",
    "Around 40% of our samples will be truncated. When we evaluate our model, we will report how this affects performance."
   ]
  },
  {
   "cell_type": "code",
   "execution_count": 37,
   "id": "2de944e0-bcf9-4c4f-b803-8bc7bcfb6ccf",
   "metadata": {
    "tags": []
   },
   "outputs": [
    {
     "data": {
      "text/plain": [
       "count    6482.000000\n",
       "mean      489.050139\n",
       "std       216.793364\n",
       "min        16.000000\n",
       "50%       457.000000\n",
       "55%       480.000000\n",
       "60%       506.000000\n",
       "65%       531.000000\n",
       "70%       564.000000\n",
       "75%       599.000000\n",
       "80%       637.000000\n",
       "max      1527.000000\n",
       "Name: clean_text, dtype: float64"
      ]
     },
     "execution_count": 37,
     "metadata": {},
     "output_type": "execute_result"
    }
   ],
   "source": [
    "# Import library that helps us work with arrays\n",
    "import numpy as np\n",
    "\n",
    "# Print out descriptive statistics about the number of tokens in each text\n",
    "input_ids.str.len().describe(percentiles=np.arange(.5, .8, step=.05))"
   ]
  },
  {
   "cell_type": "code",
   "execution_count": 41,
   "id": "55c5e9ef-3b98-40db-b81c-32638c62f777",
   "metadata": {},
   "outputs": [
    {
     "data": {
      "image/png": "[encoded data removed]",
      "text/plain": [
       "<Figure size 432x288 with 1 Axes>"
      ]
     },
     "metadata": {
      "needs_background": "light"
     },
     "output_type": "display_data"
    }
   ],
   "source": [
    "# Display histogram showing the number of tokens in each text\n",
    "input_ids.str.len().hist();"
   ]
  },
  {
   "cell_type": "markdown",
   "id": "ffc5dce5-7159-40d2-bde7-f2e11584a924",
   "metadata": {},
   "source": [
    "## Build Dataset\n",
    "\n",
    "Create a DatasetDict that will hold the dataset partitions. Saving this to disk promotes reproducibility by guaranteeing that different scripts are accessing the same data splits. I find that it also helps to organize our research code.\n",
    "\n",
    "It is possible to tokenize at this stage, but I prefer to tokenize at the last minute. This affords us the flexibility of changing tokenization schemes, which could be useful if we want to test different pretrained models (that may use different tokenizers)."
   ]
  },
  {
   "cell_type": "code",
   "execution_count": 16,
   "id": "9d5133ad-717b-45b6-ba81-aeba6dfbd8b3",
   "metadata": {
    "tags": []
   },
   "outputs": [],
   "source": [
    "# This function will take in a dataframe and return a DatasetDict object\n",
    "def build_dataset(df):\n",
    "    \n",
    "    # Create list of columns that we are interested in working with\n",
    "    columns = ['text_id',\n",
    "               'clean_text',\n",
    "               'Overall',\n",
    "               'Cohesion',\n",
    "               'Syntax',\n",
    "               'Vocabulary',\n",
    "               'Phraseology',\n",
    "               'Grammar',\n",
    "               'Conventions']\n",
    "    \n",
    "    # Use the above list to only select the datapoints in the columns we are interested in. \n",
    "    # We are also renaming the column 'clean_text' into 'text' since this is the only 'text' data we will be working with anyway.\n",
    "    df = df[columns].rename(columns = {'clean_text': 'text'})\n",
    "    \n",
    "    # Use the Dataset class method to transform a dataframe into a Dataset object.\n",
    "    ds = Dataset.from_pandas(df, preserve_index=False)\n",
    "    \n",
    "    # Split data into train, development, and test sets.\n",
    "    # 70% train, 15% development, 15% test\n",
    "    # Use the SEED we defined in the first cell to ensure reproducibility of the split.\n",
    "    train_remains = ds.train_test_split(test_size=0.3, seed=SEED)\n",
    "    train = train_remains['train']\n",
    "    _remains = train_remains['test']\n",
    "    \n",
    "    dev_test = _remains.train_test_split(test_size=0.5, seed=SEED)\n",
    "    dev = dev_test['train']\n",
    "    test = dev_test['test']\n",
    "    \n",
    "    # Initialize DatasetDict object using the train, dev, and test sets we defined above.\n",
    "    dd = DatasetDict({\n",
    "        'train': train,\n",
    "        'dev': dev, \n",
    "        'test': test})\n",
    "\n",
    "    return dd"
   ]
  },
  {
   "cell_type": "code",
   "execution_count": 17,
   "id": "58872beb-e578-4ca9-b4ff-90970aafd855",
   "metadata": {
    "tags": []
   },
   "outputs": [],
   "source": [
    "dd = build_dataset(df)"
   ]
  },
  {
   "cell_type": "code",
   "execution_count": null,
   "id": "f77f7027-beb1-4f26-89b6-e36620175e05",
   "metadata": {
    "tags": []
   },
   "outputs": [],
   "source": [
    "# Save the DatasetDict object. We will be using it in the next notebooks.\n",
    "dd.save_to_disk('../data/ellipse.hf')"
   ]
  }
 ],
 "metadata": {
  "kernelspec": {
   "display_name": "Python 3",
   "language": "python",
   "name": "python3"
  },
  "language_info": {
   "codemirror_mode": {
    "name": "ipython",
    "version": 3
   },
   "file_extension": ".py",
   "mimetype": "text/x-python",
   "name": "python",
   "nbconvert_exporter": "python",
   "pygments_lexer": "ipython3",
   "version": "3.8.8"
  }
 },
 "nbformat": 4,
 "nbformat_minor": 5
}
