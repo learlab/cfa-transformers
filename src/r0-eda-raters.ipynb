{
 "cells": [
  {
   "cell_type": "markdown",
   "id": "74c4ed6d-89ac-4eae-afc4-15027c6d31f1",
   "metadata": {},
   "source": [
    "# Exploratory Data Analysis\n",
    "\n",
    "In this notebook, we explored the possibility of training models on specific raters. Ultimately, we decided there would not be enough data from a single rater to train an effective model."
   ]
  },
  {
   "cell_type": "code",
   "execution_count": 1,
   "id": "a341a89d-5e4d-4969-a2e5-877dff645dec",
   "metadata": {},
   "outputs": [],
   "source": [
    "# Import Python library for working with dataframes\n",
    "import pandas as pd\n",
    "import numpy as np\n",
    "from sklearn.metrics import cohen_kappa_score\n",
    "\n",
    "# Enables inline display of plots within the Python Notebook (instead of having them pop up on new windows)\n",
    "%matplotlib inline\n",
    "\n",
    "# Display figures the same way they will be saved.\n",
    "%config InlineBackend.print_figure_kwargs = {'bbox_inches': 'tight'}\n",
    "\n",
    "# Import Python libraries for plotting\n",
    "import seaborn as sns\n",
    "sns.set_theme(style=\"white\")\n",
    "import matplotlib.pyplot as plt\n",
    "import matplotlib as mpl\n",
    "plt.rcParams.update({\n",
    "    'figure.dpi': 300,\n",
    "    \"font.family\": \"serif\",\n",
    "})"
   ]
  },
  {
   "cell_type": "markdown",
   "id": "4fe2055c-47ac-41eb-8001-c017f12a3929",
   "metadata": {},
   "source": [
    "## Load Data\n",
    "\n",
    "Anonymize rater names if anonymized version not found"
   ]
  },
  {
   "cell_type": "code",
   "execution_count": 11,
   "id": "7f3dfbe3-4a3b-4884-be32-234618d41a2d",
   "metadata": {},
   "outputs": [],
   "source": [
    "def anonymize(\n",
    "    original_df_path: str = \"../data/All_adjudicated_ELL_data_1022.csv\",\n",
    "    out_df_path: str = \"../data/both_raters_anonymized_1022.csv\",\n",
    "):\n",
    "    from faker import Faker\n",
    "    from functools import cache\n",
    "\n",
    "    fake = Faker()\n",
    "    Faker.seed(0)\n",
    "\n",
    "    @cache\n",
    "    def replace_name(orig_name: str):\n",
    "        return fake.first_name()\n",
    "\n",
    "    orig_df = pd.read_csv(original_df_path)\n",
    "    rater_1 = orig_df.pop(\"Rater_1\")\n",
    "    rater_2 = orig_df.pop(\"Rater_2\")\n",
    "\n",
    "    out_df = orig_df.copy()\n",
    "    out_df[\"Rater_1\"] = rater_1.map(replace_name)\n",
    "    out_df[\"Rater_2\"] = rater_2.map(replace_name)\n",
    "\n",
    "    out_df.to_csv(\"../data/both_raters_anonymized_1022.csv\", index=False)\n",
    "\n",
    "    return out_df\n",
    "\n",
    "try:\n",
    "    df = pd.read_csv(\"../data/both_raters_anonymized_1022.csv\")\n",
    "except FileNotFoundError:\n",
    "    df = anonymize()"
   ]
  },
  {
   "cell_type": "markdown",
   "id": "202306b5-3e6f-4b53-8ef2-189b1bf22fce",
   "metadata": {},
   "source": [
    "### Confirm that Overall_1 is not a simple average of the other scores.\n",
    "This should be a human-generated holistic score."
   ]
  },
  {
   "cell_type": "code",
   "execution_count": 12,
   "id": "e6bcd442-ab2a-42ff-9b16-660b60bd792f",
   "metadata": {},
   "outputs": [
    {
     "data": {
      "text/html": [
       "<div>\n",
       "<style scoped>\n",
       "    .dataframe tbody tr th:only-of-type {\n",
       "        vertical-align: middle;\n",
       "    }\n",
       "\n",
       "    .dataframe tbody tr th {\n",
       "        vertical-align: top;\n",
       "    }\n",
       "\n",
       "    .dataframe thead th {\n",
       "        text-align: right;\n",
       "    }\n",
       "</style>\n",
       "<table border=\"1\" class=\"dataframe\">\n",
       "  <thead>\n",
       "    <tr style=\"text-align: right;\">\n",
       "      <th></th>\n",
       "      <th>Overall_1</th>\n",
       "      <th>Average_1</th>\n",
       "    </tr>\n",
       "  </thead>\n",
       "  <tbody>\n",
       "    <tr>\n",
       "      <th>0</th>\n",
       "      <td>3</td>\n",
       "      <td>4</td>\n",
       "    </tr>\n",
       "    <tr>\n",
       "      <th>6</th>\n",
       "      <td>3</td>\n",
       "      <td>4</td>\n",
       "    </tr>\n",
       "    <tr>\n",
       "      <th>13</th>\n",
       "      <td>3</td>\n",
       "      <td>2</td>\n",
       "    </tr>\n",
       "    <tr>\n",
       "      <th>35</th>\n",
       "      <td>3</td>\n",
       "      <td>2</td>\n",
       "    </tr>\n",
       "    <tr>\n",
       "      <th>38</th>\n",
       "      <td>2</td>\n",
       "      <td>3</td>\n",
       "    </tr>\n",
       "    <tr>\n",
       "      <th>...</th>\n",
       "      <td>...</td>\n",
       "      <td>...</td>\n",
       "    </tr>\n",
       "    <tr>\n",
       "      <th>8851</th>\n",
       "      <td>3</td>\n",
       "      <td>4</td>\n",
       "    </tr>\n",
       "    <tr>\n",
       "      <th>8859</th>\n",
       "      <td>3</td>\n",
       "      <td>2</td>\n",
       "    </tr>\n",
       "    <tr>\n",
       "      <th>8860</th>\n",
       "      <td>3</td>\n",
       "      <td>4</td>\n",
       "    </tr>\n",
       "    <tr>\n",
       "      <th>8865</th>\n",
       "      <td>2</td>\n",
       "      <td>3</td>\n",
       "    </tr>\n",
       "    <tr>\n",
       "      <th>8867</th>\n",
       "      <td>3</td>\n",
       "      <td>2</td>\n",
       "    </tr>\n",
       "  </tbody>\n",
       "</table>\n",
       "<p>1321 rows × 2 columns</p>\n",
       "</div>"
      ],
      "text/plain": [
       "      Overall_1  Average_1\n",
       "0             3          4\n",
       "6             3          4\n",
       "13            3          2\n",
       "35            3          2\n",
       "38            2          3\n",
       "...         ...        ...\n",
       "8851          3          4\n",
       "8859          3          2\n",
       "8860          3          4\n",
       "8865          2          3\n",
       "8867          3          2\n",
       "\n",
       "[1321 rows x 2 columns]"
      ]
     },
     "execution_count": 12,
     "metadata": {},
     "output_type": "execute_result"
    }
   ],
   "source": [
    "(\n",
    "    pd.DataFrame()\n",
    "    .assign(\n",
    "        Overall_1 = df['Overall_1'],\n",
    "        Average_1 = (\n",
    "            df[['Cohesion_1', 'Syntax_1', 'Vocabulary_1', 'Phraseology_1', 'Grammar_1', 'Conventions_1']]\n",
    "            .mean(axis=1)\n",
    "            .round(0)\n",
    "            .astype(int)\n",
    "        )\n",
    "    )\n",
    "    .query('Overall_1 != Average_1')\n",
    ")"
   ]
  },
  {
   "cell_type": "code",
   "execution_count": 13,
   "id": "5e569a25-5fb3-42d9-92f8-8630af4bd4d4",
   "metadata": {},
   "outputs": [
    {
     "data": {
      "text/plain": [
       "count       17760\n",
       "unique         25\n",
       "top       William\n",
       "freq         2095\n",
       "dtype: object"
      ]
     },
     "execution_count": 13,
     "metadata": {},
     "output_type": "execute_result"
    }
   ],
   "source": [
    "pd.concat([df[\"Rater_1\"], df[\"Rater_2\"]]).describe()"
   ]
  },
  {
   "cell_type": "code",
   "execution_count": 14,
   "id": "229f3ea6-d6a6-4def-bd57-740fc9e28f0a",
   "metadata": {},
   "outputs": [
    {
     "data": {
      "text/plain": [
       "count      25.000000\n",
       "mean      710.400000\n",
       "std       571.500583\n",
       "min         2.000000\n",
       "25%       225.000000\n",
       "50%       605.000000\n",
       "75%      1062.000000\n",
       "max      2095.000000\n",
       "Name: count, dtype: float64"
      ]
     },
     "execution_count": 14,
     "metadata": {},
     "output_type": "execute_result"
    }
   ],
   "source": [
    "pd.concat([df[\"Rater_1\"], df[\"Rater_2\"]]).value_counts().describe()"
   ]
  },
  {
   "cell_type": "code",
   "execution_count": 18,
   "id": "e8b352f1-f10b-4f72-b4c6-6590d8321012",
   "metadata": {},
   "outputs": [
    {
     "data": {
      "text/plain": [
       "{Richard, Rebecca}    519\n",
       "{Kevin, Megan}        446\n",
       "{Kevin, William}      436\n",
       "{Tonya, Rachel}       393\n",
       "{Renee, Katelyn}      389\n",
       "                     ... \n",
       "{Christine, John}      10\n",
       "{Juan, Gabriella}       9\n",
       "{Tonya, Gabriella}      5\n",
       "{Rebecca, Brandy}       2\n",
       "{Lisa, Thomas}          2\n",
       "Name: count, Length: 71, dtype: int64"
      ]
     },
     "metadata": {},
     "output_type": "display_data"
    }
   ],
   "source": [
    "display(pd.Series(df[[\"Rater_1\", \"Rater_2\"]].values.tolist()).apply(set).value_counts())"
   ]
  },
  {
   "cell_type": "code",
   "execution_count": 17,
   "id": "4398c115-4671-4e8c-a106-51761d3114c3",
   "metadata": {},
   "outputs": [
    {
     "data": {
      "text/plain": [
       "Rater_1    Rater_2  \n",
       "Brandy     Rebecca        2\n",
       "Cheryl     Ryan          56\n",
       "Christine  Renee         11\n",
       "           Katelyn        9\n",
       "           John           8\n",
       "Craig      Rachel        75\n",
       "           Ryan          38\n",
       "           William       26\n",
       "           Tonya         20\n",
       "Gabriella  Rachel         9\n",
       "           Juan           8\n",
       "Jessica    Thomas       315\n",
       "           Kevin        174\n",
       "           William       47\n",
       "           Rebecca       26\n",
       "           Richard        4\n",
       "           Lisa           2\n",
       "John       Katelyn       14\n",
       "           Renee         10\n",
       "           Christine      2\n",
       "Jonathan   Megan        295\n",
       "           Rebecca      200\n",
       "           Ryan         167\n",
       "           Kevin        157\n",
       "           Thomas       130\n",
       "           Robert        55\n",
       "           Katherine     45\n",
       "Juan       Rachel       206\n",
       "           William      200\n",
       "           Cheryl       118\n",
       "           Tonya         71\n",
       "           Renee         21\n",
       "           Gabriella      1\n",
       "Katelyn    Renee        334\n",
       "           Tonya        149\n",
       "           Juan         136\n",
       "           Rachel       105\n",
       "           Ryan         100\n",
       "           Christine     85\n",
       "           John          41\n",
       "           William       15\n",
       "Katherine  Kevin        139\n",
       "           Thomas        55\n",
       "           William       54\n",
       "           Jonathan       5\n",
       "Kevin      William      163\n",
       "           Megan        115\n",
       "           Jonathan      73\n",
       "           Jessica       40\n",
       "           Katherine     28\n",
       "           Thomas        21\n",
       "Kristen    Rebecca      187\n",
       "           Richard       77\n",
       "           Lisa          21\n",
       "Kyle       Rachel         5\n",
       "           William        1\n",
       "Lisa       Rebecca      140\n",
       "           Kevin         30\n",
       "           Jessica       14\n",
       "           Richard        9\n",
       "           William        9\n",
       "           Kristen        5\n",
       "Megan      Kevin        331\n",
       "           Robert        58\n",
       "           Jonathan       5\n",
       "Rachel     William      256\n",
       "           Rachel        93\n",
       "           Cheryl        72\n",
       "           Ryan          62\n",
       "           Tonya         44\n",
       "           Juan          32\n",
       "           Craig         20\n",
       "           Kyle          14\n",
       "           Gabriella      4\n",
       "Rebecca    Kristen       29\n",
       "           Richard       22\n",
       "           William       20\n",
       "           Jessica        6\n",
       "           Lisa           4\n",
       "           Thomas         2\n",
       "Renee      Katelyn       55\n",
       "           Christine      4\n",
       "Richard    Rebecca      497\n",
       "           Kristen       41\n",
       "           William       21\n",
       "           Jessica       18\n",
       "           Thomas        17\n",
       "           Lisa           3\n",
       "Robert     Megan         56\n",
       "           Jonathan      56\n",
       "Ryan       William       35\n",
       "           Craig         12\n",
       "           Rachel         2\n",
       "Thomas     Rebecca      206\n",
       "           Jonathan      88\n",
       "           Kevin         61\n",
       "           Jessica       60\n",
       "           Katherine     57\n",
       "           William       28\n",
       "           Richard       11\n",
       "           Lisa           2\n",
       "Tonya      Rachel       349\n",
       "           William      200\n",
       "           Juan         198\n",
       "           Cheryl        14\n",
       "           Renee         12\n",
       "           Gabriella      5\n",
       "William    Kevin        273\n",
       "           Katherine    222\n",
       "           Lisa         120\n",
       "           Ryan         115\n",
       "           Jessica       72\n",
       "           Jonathan      62\n",
       "           Thomas        57\n",
       "           Rebecca       29\n",
       "           Richard       28\n",
       "           Rachel        22\n",
       "           Kyle          11\n",
       "           Craig          9\n",
       "Name: count, dtype: int64"
      ]
     },
     "metadata": {},
     "output_type": "display_data"
    }
   ],
   "source": [
    "with pd.option_context(\"display.max_rows\", None):\n",
    "    display(df.groupby([\"Rater_1\"])[\"Rater_2\"].value_counts())"
   ]
  }
 ],
 "metadata": {
  "kernelspec": {
   "display_name": "Python [conda env:hf]",
   "language": "python",
   "name": "conda-env-hf-py"
  },
  "language_info": {
   "codemirror_mode": {
    "name": "ipython",
    "version": 3
   },
   "file_extension": ".py",
   "mimetype": "text/x-python",
   "name": "python",
   "nbconvert_exporter": "python",
   "pygments_lexer": "ipython3",
   "version": "3.11.6"
  }
 },
 "nbformat": 4,
 "nbformat_minor": 5
}
